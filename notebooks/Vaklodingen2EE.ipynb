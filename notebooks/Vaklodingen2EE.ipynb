{
 "cells": [
  {
   "cell_type": "code",
   "execution_count": 1,
   "metadata": {},
   "outputs": [],
   "source": [
    "#%matplotlib inline\n",
    "\n",
    "import subprocess\n",
    "import itertools\n",
    "import numpy as np\n",
    "import requests\n",
    "import pytz\n",
    "import datetime\n",
    "import netCDF4\n",
    "from osgeo import gdal\n",
    "from os import path\n",
    "from osgeo.gdalconst import *\n",
    "from tqdm import tqdm\n",
    "from bs4 import BeautifulSoup\n"
   ]
  },
  {
   "cell_type": "code",
   "execution_count": 2,
   "metadata": {},
   "outputs": [],
   "source": [
    "#url = 'http://opendap.deltares.nl/thredds/catalog/opendap/rijkswaterstaat/kusthoogte/catalog.html'\n",
    "url_catalog = 'https://opendap.deltares.nl/thredds/catalog/opendap/rijkswaterstaat/vaklodingen_new/catalog.html'\n",
    "url_base = 'http://opendap.deltares.nl/thredds/dodsC/opendap/rijkswaterstaat/vaklodingen_new'\n",
    "ext = 'nc'\n",
    "urls = []\n",
    "\n",
    "\n",
    "def listFD(url, ext=''):\n",
    "    page = requests.get(url).text\n",
    "    soup = BeautifulSoup(page, 'html.parser')\n",
    "\n",
    "    return [url + '/' + node.get('href') for node in soup.find_all('a') if node.get('href').endswith(ext)]\n",
    "\n",
    "\n",
    "for ncfile in listFD(url_catalog, ext):\n",
    "    items = ncfile.split('/catalog.html/')\n",
    "    filename = items[1].split('/')[-1]\n",
    "    url = url_base + '/' + filename\n",
    "    urls.append(url)"
   ]
  },
  {
   "cell_type": "code",
   "execution_count": 3,
   "metadata": {},
   "outputs": [
    {
     "data": {
      "text/plain": [
       "['http://opendap.deltares.nl/thredds/dodsC/opendap/rijkswaterstaat/vaklodingen_new/vaklodingenKB139_1514.nc',\n",
       " 'http://opendap.deltares.nl/thredds/dodsC/opendap/rijkswaterstaat/vaklodingen_new/vaklodingenKB138_1716.nc',\n",
       " 'http://opendap.deltares.nl/thredds/dodsC/opendap/rijkswaterstaat/vaklodingen_new/vaklodingenKB138_1514.nc',\n",
       " 'http://opendap.deltares.nl/thredds/dodsC/opendap/rijkswaterstaat/vaklodingen_new/vaklodingenKB137_1716.nc',\n",
       " 'http://opendap.deltares.nl/thredds/dodsC/opendap/rijkswaterstaat/vaklodingen_new/vaklodingenKB137_1514.nc',\n",
       " 'http://opendap.deltares.nl/thredds/dodsC/opendap/rijkswaterstaat/vaklodingen_new/vaklodingenKB137_1312.nc',\n",
       " 'http://opendap.deltares.nl/thredds/dodsC/opendap/rijkswaterstaat/vaklodingen_new/vaklodingenKB137_1110.nc',\n",
       " 'http://opendap.deltares.nl/thredds/dodsC/opendap/rijkswaterstaat/vaklodingen_new/vaklodingenKB136_1514.nc',\n",
       " 'http://opendap.deltares.nl/thredds/dodsC/opendap/rijkswaterstaat/vaklodingen_new/vaklodingenKB136_1312.nc',\n",
       " 'http://opendap.deltares.nl/thredds/dodsC/opendap/rijkswaterstaat/vaklodingen_new/vaklodingenKB136_1110.nc',\n",
       " 'http://opendap.deltares.nl/thredds/dodsC/opendap/rijkswaterstaat/vaklodingen_new/vaklodingenKB135_1312.nc',\n",
       " 'http://opendap.deltares.nl/thredds/dodsC/opendap/rijkswaterstaat/vaklodingen_new/vaklodingenKB135_1110.nc',\n",
       " 'http://opendap.deltares.nl/thredds/dodsC/opendap/rijkswaterstaat/vaklodingen_new/vaklodingenKB135_0908.nc',\n",
       " 'http://opendap.deltares.nl/thredds/dodsC/opendap/rijkswaterstaat/vaklodingen_new/vaklodingenKB134_1312.nc',\n",
       " 'http://opendap.deltares.nl/thredds/dodsC/opendap/rijkswaterstaat/vaklodingen_new/vaklodingenKB134_1110.nc',\n",
       " 'http://opendap.deltares.nl/thredds/dodsC/opendap/rijkswaterstaat/vaklodingen_new/vaklodingenKB134_0908.nc',\n",
       " 'http://opendap.deltares.nl/thredds/dodsC/opendap/rijkswaterstaat/vaklodingen_new/vaklodingenKB133_1312.nc',\n",
       " 'http://opendap.deltares.nl/thredds/dodsC/opendap/rijkswaterstaat/vaklodingen_new/vaklodingenKB133_1110.nc',\n",
       " 'http://opendap.deltares.nl/thredds/dodsC/opendap/rijkswaterstaat/vaklodingen_new/vaklodingenKB133_0908.nc',\n",
       " 'http://opendap.deltares.nl/thredds/dodsC/opendap/rijkswaterstaat/vaklodingen_new/vaklodingenKB132_1514.nc',\n",
       " 'http://opendap.deltares.nl/thredds/dodsC/opendap/rijkswaterstaat/vaklodingen_new/vaklodingenKB132_1312.nc',\n",
       " 'http://opendap.deltares.nl/thredds/dodsC/opendap/rijkswaterstaat/vaklodingen_new/vaklodingenKB132_1110.nc',\n",
       " 'http://opendap.deltares.nl/thredds/dodsC/opendap/rijkswaterstaat/vaklodingen_new/vaklodingenKB132_0908.nc',\n",
       " 'http://opendap.deltares.nl/thredds/dodsC/opendap/rijkswaterstaat/vaklodingen_new/vaklodingenKB131_1514.nc',\n",
       " 'http://opendap.deltares.nl/thredds/dodsC/opendap/rijkswaterstaat/vaklodingen_new/vaklodingenKB131_1312.nc',\n",
       " 'http://opendap.deltares.nl/thredds/dodsC/opendap/rijkswaterstaat/vaklodingen_new/vaklodingenKB131_1110.nc',\n",
       " 'http://opendap.deltares.nl/thredds/dodsC/opendap/rijkswaterstaat/vaklodingen_new/vaklodingenKB131_0908.nc',\n",
       " 'http://opendap.deltares.nl/thredds/dodsC/opendap/rijkswaterstaat/vaklodingen_new/vaklodingenKB130_1514.nc',\n",
       " 'http://opendap.deltares.nl/thredds/dodsC/opendap/rijkswaterstaat/vaklodingen_new/vaklodingenKB130_1312.nc',\n",
       " 'http://opendap.deltares.nl/thredds/dodsC/opendap/rijkswaterstaat/vaklodingen_new/vaklodingenKB130_1110.nc',\n",
       " 'http://opendap.deltares.nl/thredds/dodsC/opendap/rijkswaterstaat/vaklodingen_new/vaklodingenKB129_1514.nc',\n",
       " 'http://opendap.deltares.nl/thredds/dodsC/opendap/rijkswaterstaat/vaklodingen_new/vaklodingenKB129_1312.nc',\n",
       " 'http://opendap.deltares.nl/thredds/dodsC/opendap/rijkswaterstaat/vaklodingen_new/vaklodingenKB129_1110.nc',\n",
       " 'http://opendap.deltares.nl/thredds/dodsC/opendap/rijkswaterstaat/vaklodingen_new/vaklodingenKB128_1514.nc',\n",
       " 'http://opendap.deltares.nl/thredds/dodsC/opendap/rijkswaterstaat/vaklodingen_new/vaklodingenKB128_1312.nc',\n",
       " 'http://opendap.deltares.nl/thredds/dodsC/opendap/rijkswaterstaat/vaklodingen_new/vaklodingenKB128_1110.nc',\n",
       " 'http://opendap.deltares.nl/thredds/dodsC/opendap/rijkswaterstaat/vaklodingen_new/vaklodingenKB127_1716.nc',\n",
       " 'http://opendap.deltares.nl/thredds/dodsC/opendap/rijkswaterstaat/vaklodingen_new/vaklodingenKB127_1514.nc',\n",
       " 'http://opendap.deltares.nl/thredds/dodsC/opendap/rijkswaterstaat/vaklodingen_new/vaklodingenKB127_1312.nc',\n",
       " 'http://opendap.deltares.nl/thredds/dodsC/opendap/rijkswaterstaat/vaklodingen_new/vaklodingenKB127_1110.nc',\n",
       " 'http://opendap.deltares.nl/thredds/dodsC/opendap/rijkswaterstaat/vaklodingen_new/vaklodingenKB126_1918.nc',\n",
       " 'http://opendap.deltares.nl/thredds/dodsC/opendap/rijkswaterstaat/vaklodingen_new/vaklodingenKB126_1716.nc',\n",
       " 'http://opendap.deltares.nl/thredds/dodsC/opendap/rijkswaterstaat/vaklodingen_new/vaklodingenKB126_1514.nc',\n",
       " 'http://opendap.deltares.nl/thredds/dodsC/opendap/rijkswaterstaat/vaklodingen_new/vaklodingenKB126_1312.nc',\n",
       " 'http://opendap.deltares.nl/thredds/dodsC/opendap/rijkswaterstaat/vaklodingen_new/vaklodingenKB126_1110.nc',\n",
       " 'http://opendap.deltares.nl/thredds/dodsC/opendap/rijkswaterstaat/vaklodingen_new/vaklodingenKB125_2120.nc',\n",
       " 'http://opendap.deltares.nl/thredds/dodsC/opendap/rijkswaterstaat/vaklodingen_new/vaklodingenKB125_1918.nc',\n",
       " 'http://opendap.deltares.nl/thredds/dodsC/opendap/rijkswaterstaat/vaklodingen_new/vaklodingenKB125_1716.nc',\n",
       " 'http://opendap.deltares.nl/thredds/dodsC/opendap/rijkswaterstaat/vaklodingen_new/vaklodingenKB125_1514.nc',\n",
       " 'http://opendap.deltares.nl/thredds/dodsC/opendap/rijkswaterstaat/vaklodingen_new/vaklodingenKB125_1312.nc',\n",
       " 'http://opendap.deltares.nl/thredds/dodsC/opendap/rijkswaterstaat/vaklodingen_new/vaklodingenKB125_1110.nc',\n",
       " 'http://opendap.deltares.nl/thredds/dodsC/opendap/rijkswaterstaat/vaklodingen_new/vaklodingenKB124_2322.nc',\n",
       " 'http://opendap.deltares.nl/thredds/dodsC/opendap/rijkswaterstaat/vaklodingen_new/vaklodingenKB124_2120.nc',\n",
       " 'http://opendap.deltares.nl/thredds/dodsC/opendap/rijkswaterstaat/vaklodingen_new/vaklodingenKB124_1918.nc',\n",
       " 'http://opendap.deltares.nl/thredds/dodsC/opendap/rijkswaterstaat/vaklodingen_new/vaklodingenKB124_1716.nc',\n",
       " 'http://opendap.deltares.nl/thredds/dodsC/opendap/rijkswaterstaat/vaklodingen_new/vaklodingenKB124_1514.nc',\n",
       " 'http://opendap.deltares.nl/thredds/dodsC/opendap/rijkswaterstaat/vaklodingen_new/vaklodingenKB124_1312.nc',\n",
       " 'http://opendap.deltares.nl/thredds/dodsC/opendap/rijkswaterstaat/vaklodingen_new/vaklodingenKB123_2322.nc',\n",
       " 'http://opendap.deltares.nl/thredds/dodsC/opendap/rijkswaterstaat/vaklodingen_new/vaklodingenKB123_2120.nc',\n",
       " 'http://opendap.deltares.nl/thredds/dodsC/opendap/rijkswaterstaat/vaklodingen_new/vaklodingenKB123_1918.nc',\n",
       " 'http://opendap.deltares.nl/thredds/dodsC/opendap/rijkswaterstaat/vaklodingen_new/vaklodingenKB123_1716.nc',\n",
       " 'http://opendap.deltares.nl/thredds/dodsC/opendap/rijkswaterstaat/vaklodingen_new/vaklodingenKB123_1514.nc',\n",
       " 'http://opendap.deltares.nl/thredds/dodsC/opendap/rijkswaterstaat/vaklodingen_new/vaklodingenKB123_1312.nc',\n",
       " 'http://opendap.deltares.nl/thredds/dodsC/opendap/rijkswaterstaat/vaklodingen_new/vaklodingenKB122_2322.nc',\n",
       " 'http://opendap.deltares.nl/thredds/dodsC/opendap/rijkswaterstaat/vaklodingen_new/vaklodingenKB122_2120.nc',\n",
       " 'http://opendap.deltares.nl/thredds/dodsC/opendap/rijkswaterstaat/vaklodingen_new/vaklodingenKB122_1918.nc',\n",
       " 'http://opendap.deltares.nl/thredds/dodsC/opendap/rijkswaterstaat/vaklodingen_new/vaklodingenKB122_1716.nc',\n",
       " 'http://opendap.deltares.nl/thredds/dodsC/opendap/rijkswaterstaat/vaklodingen_new/vaklodingenKB122_1514.nc',\n",
       " 'http://opendap.deltares.nl/thredds/dodsC/opendap/rijkswaterstaat/vaklodingen_new/vaklodingenKB121_3130.nc',\n",
       " 'http://opendap.deltares.nl/thredds/dodsC/opendap/rijkswaterstaat/vaklodingen_new/vaklodingenKB121_2928.nc',\n",
       " 'http://opendap.deltares.nl/thredds/dodsC/opendap/rijkswaterstaat/vaklodingen_new/vaklodingenKB121_2726.nc',\n",
       " 'http://opendap.deltares.nl/thredds/dodsC/opendap/rijkswaterstaat/vaklodingen_new/vaklodingenKB121_2524.nc',\n",
       " 'http://opendap.deltares.nl/thredds/dodsC/opendap/rijkswaterstaat/vaklodingen_new/vaklodingenKB121_2322.nc',\n",
       " 'http://opendap.deltares.nl/thredds/dodsC/opendap/rijkswaterstaat/vaklodingen_new/vaklodingenKB121_2120.nc',\n",
       " 'http://opendap.deltares.nl/thredds/dodsC/opendap/rijkswaterstaat/vaklodingen_new/vaklodingenKB121_1918.nc',\n",
       " 'http://opendap.deltares.nl/thredds/dodsC/opendap/rijkswaterstaat/vaklodingen_new/vaklodingenKB121_1716.nc',\n",
       " 'http://opendap.deltares.nl/thredds/dodsC/opendap/rijkswaterstaat/vaklodingen_new/vaklodingenKB120_3534.nc',\n",
       " 'http://opendap.deltares.nl/thredds/dodsC/opendap/rijkswaterstaat/vaklodingen_new/vaklodingenKB120_3332.nc',\n",
       " 'http://opendap.deltares.nl/thredds/dodsC/opendap/rijkswaterstaat/vaklodingen_new/vaklodingenKB120_3130.nc',\n",
       " 'http://opendap.deltares.nl/thredds/dodsC/opendap/rijkswaterstaat/vaklodingen_new/vaklodingenKB120_2928.nc',\n",
       " 'http://opendap.deltares.nl/thredds/dodsC/opendap/rijkswaterstaat/vaklodingen_new/vaklodingenKB120_2726.nc',\n",
       " 'http://opendap.deltares.nl/thredds/dodsC/opendap/rijkswaterstaat/vaklodingen_new/vaklodingenKB120_2524.nc',\n",
       " 'http://opendap.deltares.nl/thredds/dodsC/opendap/rijkswaterstaat/vaklodingen_new/vaklodingenKB120_2322.nc',\n",
       " 'http://opendap.deltares.nl/thredds/dodsC/opendap/rijkswaterstaat/vaklodingen_new/vaklodingenKB120_2120.nc',\n",
       " 'http://opendap.deltares.nl/thredds/dodsC/opendap/rijkswaterstaat/vaklodingen_new/vaklodingenKB120_1918.nc',\n",
       " 'http://opendap.deltares.nl/thredds/dodsC/opendap/rijkswaterstaat/vaklodingen_new/vaklodingenKB119_4544.nc',\n",
       " 'http://opendap.deltares.nl/thredds/dodsC/opendap/rijkswaterstaat/vaklodingen_new/vaklodingenKB119_3736.nc',\n",
       " 'http://opendap.deltares.nl/thredds/dodsC/opendap/rijkswaterstaat/vaklodingen_new/vaklodingenKB119_3534.nc',\n",
       " 'http://opendap.deltares.nl/thredds/dodsC/opendap/rijkswaterstaat/vaklodingen_new/vaklodingenKB119_3332.nc',\n",
       " 'http://opendap.deltares.nl/thredds/dodsC/opendap/rijkswaterstaat/vaklodingen_new/vaklodingenKB119_3130.nc',\n",
       " 'http://opendap.deltares.nl/thredds/dodsC/opendap/rijkswaterstaat/vaklodingen_new/vaklodingenKB119_2928.nc',\n",
       " 'http://opendap.deltares.nl/thredds/dodsC/opendap/rijkswaterstaat/vaklodingen_new/vaklodingenKB119_2726.nc',\n",
       " 'http://opendap.deltares.nl/thredds/dodsC/opendap/rijkswaterstaat/vaklodingen_new/vaklodingenKB119_2524.nc',\n",
       " 'http://opendap.deltares.nl/thredds/dodsC/opendap/rijkswaterstaat/vaklodingen_new/vaklodingenKB118_5150.nc',\n",
       " 'http://opendap.deltares.nl/thredds/dodsC/opendap/rijkswaterstaat/vaklodingen_new/vaklodingenKB118_4948.nc',\n",
       " 'http://opendap.deltares.nl/thredds/dodsC/opendap/rijkswaterstaat/vaklodingen_new/vaklodingenKB118_4746.nc',\n",
       " 'http://opendap.deltares.nl/thredds/dodsC/opendap/rijkswaterstaat/vaklodingen_new/vaklodingenKB118_4544.nc',\n",
       " 'http://opendap.deltares.nl/thredds/dodsC/opendap/rijkswaterstaat/vaklodingen_new/vaklodingenKB118_4140.nc',\n",
       " 'http://opendap.deltares.nl/thredds/dodsC/opendap/rijkswaterstaat/vaklodingen_new/vaklodingenKB118_3938.nc',\n",
       " 'http://opendap.deltares.nl/thredds/dodsC/opendap/rijkswaterstaat/vaklodingen_new/vaklodingenKB118_3736.nc',\n",
       " 'http://opendap.deltares.nl/thredds/dodsC/opendap/rijkswaterstaat/vaklodingen_new/vaklodingenKB118_3534.nc',\n",
       " 'http://opendap.deltares.nl/thredds/dodsC/opendap/rijkswaterstaat/vaklodingen_new/vaklodingenKB118_3332.nc',\n",
       " 'http://opendap.deltares.nl/thredds/dodsC/opendap/rijkswaterstaat/vaklodingen_new/vaklodingenKB118_3130.nc',\n",
       " 'http://opendap.deltares.nl/thredds/dodsC/opendap/rijkswaterstaat/vaklodingen_new/vaklodingenKB118_2928.nc',\n",
       " 'http://opendap.deltares.nl/thredds/dodsC/opendap/rijkswaterstaat/vaklodingen_new/vaklodingenKB117_5150.nc',\n",
       " 'http://opendap.deltares.nl/thredds/dodsC/opendap/rijkswaterstaat/vaklodingen_new/vaklodingenKB117_4948.nc',\n",
       " 'http://opendap.deltares.nl/thredds/dodsC/opendap/rijkswaterstaat/vaklodingen_new/vaklodingenKB117_4746.nc',\n",
       " 'http://opendap.deltares.nl/thredds/dodsC/opendap/rijkswaterstaat/vaklodingen_new/vaklodingenKB117_4544.nc',\n",
       " 'http://opendap.deltares.nl/thredds/dodsC/opendap/rijkswaterstaat/vaklodingen_new/vaklodingenKB117_4342.nc',\n",
       " 'http://opendap.deltares.nl/thredds/dodsC/opendap/rijkswaterstaat/vaklodingen_new/vaklodingenKB117_4140.nc',\n",
       " 'http://opendap.deltares.nl/thredds/dodsC/opendap/rijkswaterstaat/vaklodingen_new/vaklodingenKB117_3938.nc',\n",
       " 'http://opendap.deltares.nl/thredds/dodsC/opendap/rijkswaterstaat/vaklodingen_new/vaklodingenKB117_3736.nc',\n",
       " 'http://opendap.deltares.nl/thredds/dodsC/opendap/rijkswaterstaat/vaklodingen_new/vaklodingenKB117_3534.nc',\n",
       " 'http://opendap.deltares.nl/thredds/dodsC/opendap/rijkswaterstaat/vaklodingen_new/vaklodingenKB116_5150.nc',\n",
       " 'http://opendap.deltares.nl/thredds/dodsC/opendap/rijkswaterstaat/vaklodingen_new/vaklodingenKB116_4948.nc',\n",
       " 'http://opendap.deltares.nl/thredds/dodsC/opendap/rijkswaterstaat/vaklodingen_new/vaklodingenKB116_4746.nc',\n",
       " 'http://opendap.deltares.nl/thredds/dodsC/opendap/rijkswaterstaat/vaklodingen_new/vaklodingenKB116_4544.nc',\n",
       " 'http://opendap.deltares.nl/thredds/dodsC/opendap/rijkswaterstaat/vaklodingen_new/vaklodingenKB116_4342.nc',\n",
       " 'http://opendap.deltares.nl/thredds/dodsC/opendap/rijkswaterstaat/vaklodingen_new/vaklodingenKB116_4140.nc',\n",
       " 'http://opendap.deltares.nl/thredds/dodsC/opendap/rijkswaterstaat/vaklodingen_new/vaklodingenKB116_3938.nc',\n",
       " 'http://opendap.deltares.nl/thredds/dodsC/opendap/rijkswaterstaat/vaklodingen_new/vaklodingenKB116_3736.nc',\n",
       " 'http://opendap.deltares.nl/thredds/dodsC/opendap/rijkswaterstaat/vaklodingen_new/vaklodingenKB115_5150.nc',\n",
       " 'http://opendap.deltares.nl/thredds/dodsC/opendap/rijkswaterstaat/vaklodingen_new/vaklodingenKB115_4948.nc',\n",
       " 'http://opendap.deltares.nl/thredds/dodsC/opendap/rijkswaterstaat/vaklodingen_new/vaklodingenKB115_4746.nc',\n",
       " 'http://opendap.deltares.nl/thredds/dodsC/opendap/rijkswaterstaat/vaklodingen_new/vaklodingenKB115_4544.nc',\n",
       " 'http://opendap.deltares.nl/thredds/dodsC/opendap/rijkswaterstaat/vaklodingen_new/vaklodingenKB115_4342.nc',\n",
       " 'http://opendap.deltares.nl/thredds/dodsC/opendap/rijkswaterstaat/vaklodingen_new/vaklodingenKB115_4140.nc',\n",
       " 'http://opendap.deltares.nl/thredds/dodsC/opendap/rijkswaterstaat/vaklodingen_new/vaklodingenKB115_3938.nc',\n",
       " 'http://opendap.deltares.nl/thredds/dodsC/opendap/rijkswaterstaat/vaklodingen_new/vaklodingenKB114_5150.nc',\n",
       " 'http://opendap.deltares.nl/thredds/dodsC/opendap/rijkswaterstaat/vaklodingen_new/vaklodingenKB114_4948.nc',\n",
       " 'http://opendap.deltares.nl/thredds/dodsC/opendap/rijkswaterstaat/vaklodingen_new/vaklodingenKB114_4746.nc',\n",
       " 'http://opendap.deltares.nl/thredds/dodsC/opendap/rijkswaterstaat/vaklodingen_new/vaklodingenKB114_4544.nc',\n",
       " 'http://opendap.deltares.nl/thredds/dodsC/opendap/rijkswaterstaat/vaklodingen_new/vaklodingenKB114_4342.nc',\n",
       " 'http://opendap.deltares.nl/thredds/dodsC/opendap/rijkswaterstaat/vaklodingen_new/vaklodingenKB114_4140.nc',\n",
       " 'http://opendap.deltares.nl/thredds/dodsC/opendap/rijkswaterstaat/vaklodingen_new/vaklodingenKB113_4948.nc',\n",
       " 'http://opendap.deltares.nl/thredds/dodsC/opendap/rijkswaterstaat/vaklodingen_new/vaklodingenKB113_4746.nc',\n",
       " 'http://opendap.deltares.nl/thredds/dodsC/opendap/rijkswaterstaat/vaklodingen_new/vaklodingenKB113_4544.nc',\n",
       " 'http://opendap.deltares.nl/thredds/dodsC/opendap/rijkswaterstaat/vaklodingen_new/vaklodingenKB113_4342.nc',\n",
       " 'http://opendap.deltares.nl/thredds/dodsC/opendap/rijkswaterstaat/vaklodingen_new/vaklodingenKB112_4948.nc',\n",
       " 'http://opendap.deltares.nl/thredds/dodsC/opendap/rijkswaterstaat/vaklodingen_new/vaklodingenKB112_4746.nc',\n",
       " 'http://opendap.deltares.nl/thredds/dodsC/opendap/rijkswaterstaat/vaklodingen_new/vaklodingenKB112_4544.nc',\n",
       " 'http://opendap.deltares.nl/thredds/dodsC/opendap/rijkswaterstaat/vaklodingen_new/vaklodingenKB112_4342.nc',\n",
       " 'http://opendap.deltares.nl/thredds/dodsC/opendap/rijkswaterstaat/vaklodingen_new/vaklodingenKB112_1110.nc',\n",
       " 'http://opendap.deltares.nl/thredds/dodsC/opendap/rijkswaterstaat/vaklodingen_new/vaklodingenKB111_5150.nc',\n",
       " 'http://opendap.deltares.nl/thredds/dodsC/opendap/rijkswaterstaat/vaklodingen_new/vaklodingenKB111_4948.nc',\n",
       " 'http://opendap.deltares.nl/thredds/dodsC/opendap/rijkswaterstaat/vaklodingen_new/vaklodingenKB111_4746.nc',\n",
       " 'http://opendap.deltares.nl/thredds/dodsC/opendap/rijkswaterstaat/vaklodingen_new/vaklodingenKB111_4544.nc',\n",
       " 'http://opendap.deltares.nl/thredds/dodsC/opendap/rijkswaterstaat/vaklodingen_new/vaklodingenKB110_5150.nc',\n",
       " 'http://opendap.deltares.nl/thredds/dodsC/opendap/rijkswaterstaat/vaklodingen_new/vaklodingenKB110_4948.nc',\n",
       " 'http://opendap.deltares.nl/thredds/dodsC/opendap/rijkswaterstaat/vaklodingen_new/vaklodingenKB110_4746.nc',\n",
       " 'http://opendap.deltares.nl/thredds/dodsC/opendap/rijkswaterstaat/vaklodingen_new/vaklodingenKB109_5150.nc',\n",
       " 'http://opendap.deltares.nl/thredds/dodsC/opendap/rijkswaterstaat/vaklodingen_new/vaklodingenKB109_4948.nc',\n",
       " 'http://opendap.deltares.nl/thredds/dodsC/opendap/rijkswaterstaat/vaklodingen_new/vaklodingenKB109_4746.nc',\n",
       " 'http://opendap.deltares.nl/thredds/dodsC/opendap/rijkswaterstaat/vaklodingen_new/catalog.nc']"
      ]
     },
     "execution_count": 3,
     "metadata": {},
     "output_type": "execute_result"
    }
   ],
   "source": [
    "url\n"
   ]
  },
  {
   "cell_type": "code",
   "execution_count": 4,
   "metadata": {},
   "outputs": [
    {
     "name": "stderr",
     "output_type": "stream",
     "text": [
      "100%|████████████████████████████████████████████████████████████████████████████████| 153/153 [09:51<00:00,  3.86s/it]\n"
     ]
    }
   ],
   "source": [
    "grids = []\n",
    "for url in tqdm(urls[:-1]):\n",
    "    ds = netCDF4.Dataset(url)\n",
    "    times = netCDF4.num2date(ds.variables['time'][:], ds.variables['time'].units, calendar='julian')\n",
    "    local = pytz.timezone(\"Europe/Amsterdam\")\n",
    "    # times = [local.localize(t, is_dst=None).astimezone(pytz.utc) for t in times]\n",
    "    times = [datetime.datetime.strptime(t.isoformat(), \"%Y-%m-%dT%H:%M:%S\").replace(tzinfo=pytz.utc) for t in times]\n",
    "    arrs = []\n",
    "    z = ds.variables['z'][:]\n",
    "    x = ds.variables['x'][:]\n",
    "    y = ds.variables['y'][:]\n",
    "\n",
    "    grids.append({\n",
    "        \"url\": url,\n",
    "        \"x\": x,\n",
    "        \"y\": y,\n",
    "        \"z\": z,\n",
    "        \"times\": times\n",
    "    })\n",
    "    ds.close()\n"
   ]
  },
  {
   "cell_type": "code",
   "execution_count": 5,
   "metadata": {},
   "outputs": [
    {
     "data": {
      "text/plain": [
       "2930"
      ]
     },
     "execution_count": 5,
     "metadata": {},
     "output_type": "execute_result"
    }
   ],
   "source": [
    "count = len(list(itertools.chain.from_iterable([g['times'] for g in grids])))\n",
    "count"
   ]
  },
  {
   "cell_type": "code",
   "execution_count": 6,
   "metadata": {
    "scrolled": true
   },
   "outputs": [
    {
     "name": "stdout",
     "output_type": "stream",
     "text": [
      "[[-- -- -- ... -- -- --]\n",
      " [-- -- -- ... -- -- --]\n",
      " [-- -- -- ... -- -- --]\n",
      " ...\n",
      " [-- -- -- ... -- -- --]\n",
      " [-- -- -- ... -- -- --]\n",
      " [-- -- -- ... -- -- --]]\n"
     ]
    }
   ],
   "source": [
    "print(grids[0]['z'][0])"
   ]
  },
  {
   "cell_type": "code",
   "execution_count": 27,
   "metadata": {},
   "outputs": [
    {
     "data": {
      "text/plain": [
       "0"
      ]
     },
     "execution_count": 27,
     "metadata": {},
     "output_type": "execute_result"
    }
   ],
   "source": [
    "\n",
    "#cmd\n",
    "#subprocess.call('gsutil cp ../output/bathymetry_000.tif gs://eo-bathymetry-rws/vaklodingen/bathymetry_000.tif', shell=True)\n",
    "#ccc=r\"dir\"\n",
    "#ccc\n",
    "#subprocess.call(ccc)"
   ]
  },
  {
   "cell_type": "code",
   "execution_count": 30,
   "metadata": {},
   "outputs": [],
   "source": [
    "ee_collection_path = 'projects/deltares-rws/eo-bathymetry/vaklodingen' #?"
   ]
  },
  {
   "cell_type": "code",
   "execution_count": 31,
   "metadata": {},
   "outputs": [],
   "source": [
    "def run(cmd, shell=False):\n",
    "    # print(cmd)\n",
    "    subprocess.call(cmd,shell=shell)"
   ]
  },
  {
   "cell_type": "code",
   "execution_count": 34,
   "metadata": {},
   "outputs": [
    {
     "name": "stderr",
     "output_type": "stream",
     "text": [
      "100%|█████████████████████████████████████████████████████████████████████████████| 153/153 [4:20:49<00:00, 102.29s/it]\n"
     ]
    }
   ],
   "source": [
    "start_index = 0\n",
    "jj=0\n",
    "for g in tqdm(grids):\n",
    "    ncols = len(g['x'])\n",
    "    nrows = len(g['y'])\n",
    "    cellsize = g['x'][1] - g['x'][0]\n",
    "    xllcorner = np.min(g['x']-10)\n",
    "    yllcorner = np.min(g['y']-10)\n",
    "    nodata_value = -32767\n",
    "    z = g['z']\n",
    "    print(z.shape)\n",
    "\n",
    "    for i, t in enumerate(g['times']):\n",
    "        if i < start_index:\n",
    "            i = i + 1\n",
    "            continue\n",
    "\n",
    "        jj = jj+1\n",
    "        print('counter', jj)\n",
    "\n",
    "        filename = 'bathymetry_' + str(str(t)[:4]) +\"_\"+str(jj).rjust(4, '0')\n",
    "#         print(filename)\n",
    "        filepath = r'../output/'  + filename\n",
    "        filepath_asc = filepath + '.asc'\n",
    "        filepath_tif = filepath + '.tif'\n",
    "        filename_tif = filename + '.tif'\n",
    "\n",
    "        zi = z[i]\n",
    "\n",
    "        with open(filepath_asc, 'w') as f:\n",
    "            f.write('ncols {0}\\n'.format(ncols))\n",
    "            f.write('nrows {0}\\n'.format(nrows))\n",
    "            f.write('cellsize {0}\\n'.format(cellsize))\n",
    "            f.write('xllcorner {0}\\n'.format(xllcorner))\n",
    "            f.write('yllcorner {0}\\n'.format(yllcorner))\n",
    "            f.write('nodata_value {0}\\n'.format(nodata_value))\n",
    "            for row in range(nrows-1,-1,-1):\n",
    "                s = ' '.join([str(v) for v in zi[row,]]).replace('--', str(nodata_value))\n",
    "                f.write(s)\n",
    "                f.write('\\n')\n",
    "\n",
    "        cmd = 'gdal_translate -ot Float32 -a_srs EPSG:28992 -co COMPRESS=DEFLATE -co PREDICTOR=2 -co ZLEVEL=6 -of GTiff {0} {1}'\\\n",
    "            .format(filepath_asc, filepath_tif)\n",
    "        run(cmd)\n",
    "\n",
    "        filepath_gs = 'gs://eo-bathymetry-rws/vaklodingen/' + filename_tif  # ?\n",
    "\n",
    "        cmd = 'gsutil cp {0} {1}' \\\n",
    "            .format(filepath_tif, filepath_gs)\n",
    "        run(cmd, shell=True)\n",
    "\n",
    "        filepath_ee = ee_collection_path + '/' + filename\n",
    "        cmd = 'earthengine upload image --wait --asset_id={0} --nodata_value={1} {2}' \\\n",
    "            .format(filepath_ee, nodata_value, filepath_gs)\n",
    "        run(cmd, shell=True)\n",
    "\n",
    "        time_start = int(grids[0]['times'][0].timestamp() * 1000)\n",
    "        cmd = 'earthengine asset set --time_start {0} {1}' \\\n",
    "            .format(time_start, filepath_ee)\n",
    "        run(cmd, shell=True)\n",
    "\n",
    "        cmd = 'earthengine acl set public {0}' \\\n",
    "            .format(filepath_ee)\n",
    "        run(cmd, shell=True)\n",
    "\n",
    "        i = i + 1\n"
   ]
  },
  {
   "cell_type": "code",
   "execution_count": null,
   "metadata": {},
   "outputs": [],
   "source": []
  },
  {
   "cell_type": "code",
   "execution_count": null,
   "metadata": {},
   "outputs": [],
   "source": [
    "# following is just for testing."
   ]
  },
  {
   "cell_type": "code",
   "execution_count": null,
   "metadata": {},
   "outputs": [],
   "source": [
    "        filepath_gs = 'gs://eo-bathymetry-rws/vaklodingen/' + filename_tif\n",
    "        \n",
    "        #gsutil = 'D:/src/google-cloud-sdk/bin/gsutil.cmd' # relative path is not defined on Windows\n",
    "        gsutil = 'gsutil'\n",
    "        cmd = gsutil + ' cp {0} {1}'\\\n",
    "            .format(filepath_tif, filepath_gs)\n",
    "        run(cmd)\n",
    "        \n",
    "        filepath_ee = ee_collection_path + '/' + filename        \n",
    "        cmd = 'earthengine upload image --wait --asset_id={0} --nodata_value={1} {2}'\\\n",
    "            .format(filepath_ee, nodata_value, filepath_gs)        \n",
    "        run(cmd)\n",
    "        \n",
    "        time_start = int(grids[0]['times'][0].timestamp() * 1000)\n",
    "        cmd = 'earthengine asset set --time_start {0} {1}'\\\n",
    "            .format(time_start, filepath_ee)\n",
    "        run(cmd)\n",
    "\n",
    "        cmd = 'earthengine acl set public {0}'\\\n",
    "            .format(filepath_ee)\n",
    "        run(cmd)\n"
   ]
  },
  {
   "cell_type": "code",
   "execution_count": null,
   "metadata": {},
   "outputs": [],
   "source": []
  }
 ],
 "metadata": {
  "anaconda-cloud": {},
  "kernelspec": {
   "display_name": "Python 3",
   "language": "python",
   "name": "python3"
  },
  "language_info": {
   "codemirror_mode": {
    "name": "ipython",
    "version": 3
   },
   "file_extension": ".py",
   "mimetype": "text/x-python",
   "name": "python",
   "nbconvert_exporter": "python",
   "pygments_lexer": "ipython3",
   "version": "3.7.8"
  }
 },
 "nbformat": 4,
 "nbformat_minor": 2
}
